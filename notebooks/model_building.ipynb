{
 "cells": [
  {
   "cell_type": "markdown",
   "metadata": {},
   "source": [
    "Build a regression model."
   ]
  },
  {
   "cell_type": "code",
   "execution_count": 9,
   "metadata": {},
   "outputs": [],
   "source": [
    "import import_ipynb\n",
    "from joining_data import df_yelp_analysis\n",
    "df_yelp_analysis\n",
    "\n",
    "import statsmodels.api as sm\n",
    "\n",
    "Y = df_yelp_analysis['Number_of_Restaurants'] #define Y\n",
    "X = df_yelp_analysis['Bikes_in_Use'] #define X\n",
    "\n",
    "X = sm.add_constant(X) #adding a constant\n",
    "lin_reg = sm.OLS(Y,X) \n",
    "\n"
   ]
  },
  {
   "cell_type": "markdown",
   "metadata": {},
   "source": [
    "Provide model output and an interpretation of the results. "
   ]
  },
  {
   "cell_type": "code",
   "execution_count": 10,
   "metadata": {},
   "outputs": [
    {
     "name": "stdout",
     "output_type": "stream",
     "text": [
      "                              OLS Regression Results                             \n",
      "=================================================================================\n",
      "Dep. Variable:     Number_of_Restaurants   R-squared:                        -inf\n",
      "Model:                               OLS   Adj. R-squared:                   -inf\n",
      "Method:                    Least Squares   F-statistic:                    -1.000\n",
      "Date:                   Sun, 25 May 2025   Prob (F-statistic):               1.00\n",
      "Time:                           23:28:52   Log-Likelihood:                 90.631\n",
      "No. Observations:                      3   AIC:                            -177.3\n",
      "Df Residuals:                          1   BIC:                            -179.1\n",
      "Df Model:                              1                                         \n",
      "Covariance Type:               nonrobust                                         \n",
      "================================================================================\n",
      "                   coef    std err          t      P>|t|      [0.025      0.975]\n",
      "--------------------------------------------------------------------------------\n",
      "const           50.0000   5.91e-14   8.46e+14      0.000      50.000      50.000\n",
      "Bikes_in_Use -3.553e-15   5.62e-15     -0.632      0.641   -7.49e-14    6.78e-14\n",
      "==============================================================================\n",
      "Omnibus:                          nan   Durbin-Watson:                   0.400\n",
      "Prob(Omnibus):                    nan   Jarque-Bera (JB):                0.281\n",
      "Skew:                           0.000   Prob(JB):                        0.869\n",
      "Kurtosis:                       1.500   Cond. No.                         34.2\n",
      "==============================================================================\n",
      "\n",
      "Notes:\n",
      "[1] Standard Errors assume that the covariance matrix of the errors is correctly specified.\n"
     ]
    },
    {
     "name": "stderr",
     "output_type": "stream",
     "text": [
      "c:\\Users\\muham\\anaconda3\\envs\\new_env\\lib\\site-packages\\statsmodels\\stats\\stattools.py:74: ValueWarning: omni_normtest is not valid with less than 8 observations; 3 samples were given.\n",
      "  warn(\"omni_normtest is not valid with less than 8 observations; %i \"\n",
      "c:\\Users\\muham\\anaconda3\\envs\\new_env\\lib\\site-packages\\statsmodels\\regression\\linear_model.py:1782: RuntimeWarning: divide by zero encountered in scalar divide\n",
      "  return 1 - self.ssr/self.centered_tss\n"
     ]
    }
   ],
   "source": [
    "model = lin_reg.fit()\n",
    "print_model = model.summary()\n",
    "print(print_model)"
   ]
  },
  {
   "cell_type": "markdown",
   "metadata": {},
   "source": [
    "# Stretch"
   ]
  },
  {
   "cell_type": "markdown",
   "metadata": {},
   "source": [
    "How can you turn the regression model into a classification model?"
   ]
  },
  {
   "cell_type": "code",
   "execution_count": null,
   "metadata": {},
   "outputs": [],
   "source": [
    "Divide number of restaurants into categories such as: 'a lot of restaurants', 'some restaurants', 'not a lot of restaurants'. Define these labels with their own range. "
   ]
  }
 ],
 "metadata": {
  "kernelspec": {
   "display_name": "new_env",
   "language": "python",
   "name": "python3"
  },
  "language_info": {
   "codemirror_mode": {
    "name": "ipython",
    "version": 3
   },
   "file_extension": ".py",
   "mimetype": "text/x-python",
   "name": "python",
   "nbconvert_exporter": "python",
   "pygments_lexer": "ipython3",
   "version": "3.9.15"
  }
 },
 "nbformat": 4,
 "nbformat_minor": 4
}
