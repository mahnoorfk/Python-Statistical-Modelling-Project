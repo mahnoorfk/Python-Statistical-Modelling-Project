{
 "cells": [
  {
   "cell_type": "markdown",
   "metadata": {},
   "source": [
    "Build a regression model."
   ]
  },
  {
   "cell_type": "code",
   "execution_count": 3,
   "metadata": {},
   "outputs": [],
   "source": [
    "import pandas as pd\n",
    "import statsmodels.api as sm\n",
    "\n",
    "aggregate_df = pd.read_csv('aggregate_data.csv')\n",
    "\n",
    "Y = aggregate_df['Number_of_Restaurants'] #define Y\n",
    "X = aggregate_df['Total_Bikes'] #define X\n",
    "\n",
    "X = sm.add_constant(X) #adding a constant\n",
    "lin_reg = sm.OLS(Y,X) "
   ]
  },
  {
   "cell_type": "markdown",
   "metadata": {},
   "source": [
    "Provide model output and an interpretation of the results. "
   ]
  },
  {
   "cell_type": "code",
   "execution_count": null,
   "metadata": {},
   "outputs": [
    {
     "name": "stdout",
     "output_type": "stream",
     "text": [
      "                              OLS Regression Results                             \n",
      "=================================================================================\n",
      "Dep. Variable:     Number_of_Restaurants   R-squared:                       0.163\n",
      "Model:                               OLS   Adj. R-squared:                  0.160\n",
      "Method:                    Least Squares   F-statistic:                     76.67\n",
      "Date:                   Sat, 07 Jun 2025   Prob (F-statistic):           5.97e-17\n",
      "Time:                           01:08:43   Log-Likelihood:                -1653.5\n",
      "No. Observations:                    397   AIC:                             3311.\n",
      "Df Residuals:                        395   BIC:                             3319.\n",
      "Df Model:                              1                                         \n",
      "Covariance Type:               nonrobust                                         \n",
      "===============================================================================\n",
      "                  coef    std err          t      P>|t|      [0.025      0.975]\n",
      "-------------------------------------------------------------------------------\n",
      "const          28.0052      0.951     29.458      0.000      26.136      29.874\n",
      "Total_Bikes     0.0245      0.003      8.756      0.000       0.019       0.030\n",
      "==============================================================================\n",
      "Omnibus:                     9350.161   Durbin-Watson:                   1.699\n",
      "Prob(Omnibus):                  0.000   Jarque-Bera (JB):               33.887\n",
      "Skew:                          -0.038   Prob(JB):                     4.38e-08\n",
      "Kurtosis:                       1.571   Cond. No.                         412.\n",
      "==============================================================================\n",
      "\n",
      "Notes:\n",
      "[1] Standard Errors assume that the covariance matrix of the errors is correctly specified.\n"
     ]
    }
   ],
   "source": [
    "model = lin_reg.fit()\n",
    "print_model = model.summary()\n",
    "print(print_model)\n",
    "\n",
    "#the p value is less than 0.05, so the relationship between independent and dependent variables is significant.\n",
    "#the R-squared value is low, this means the model explains only 16% of the variation in the data."
   ]
  },
  {
   "cell_type": "markdown",
   "metadata": {},
   "source": [
    "# Stretch"
   ]
  },
  {
   "cell_type": "markdown",
   "metadata": {},
   "source": [
    "How can you turn the regression model into a classification model?"
   ]
  },
  {
   "cell_type": "code",
   "execution_count": null,
   "metadata": {},
   "outputs": [],
   "source": [
    "Divide number of pizzerias into categories such as: 'a lot of pizzerias', 'some pizzerias', 'not a lot of pizzerias'. Define these labels with their own range. "
   ]
  }
 ],
 "metadata": {
  "kernelspec": {
   "display_name": "new_env",
   "language": "python",
   "name": "python3"
  },
  "language_info": {
   "codemirror_mode": {
    "name": "ipython",
    "version": 3
   },
   "file_extension": ".py",
   "mimetype": "text/x-python",
   "name": "python",
   "nbconvert_exporter": "python",
   "pygments_lexer": "ipython3",
   "version": "3.9.15"
  }
 },
 "nbformat": 4,
 "nbformat_minor": 4
}
