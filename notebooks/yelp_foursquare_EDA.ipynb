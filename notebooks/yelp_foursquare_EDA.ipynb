{
 "cells": [
  {
   "cell_type": "code",
   "execution_count": 176,
   "metadata": {},
   "outputs": [],
   "source": [
    "import requests\n",
    "import os \n",
    "import pandas as pd"
   ]
  },
  {
   "cell_type": "markdown",
   "metadata": {},
   "source": [
    "# Foursquare"
   ]
  },
  {
   "cell_type": "markdown",
   "metadata": {},
   "source": [
    "Send a request to Foursquare with a small radius (1000m) for all the bike stations in your city of choice. "
   ]
  },
  {
   "cell_type": "code",
   "execution_count": 174,
   "metadata": {},
   "outputs": [
    {
     "name": "stdout",
     "output_type": "stream",
     "text": [
      "Name of Station: Summerhill Ave / Maclennan Ave Latitude : 43.685924 Longitude: -79.376304\n",
      "=====================================\n",
      "{'results': [{'fsq_id': '4adcb343f964a520e32e21e3', 'categories': [{'id': 17069, 'name': 'Grocery Store', 'short_name': 'Grocery Store', 'plural_name': 'Grocery Stores', 'icon': {'prefix': 'https://ss3.4sqi.net/img/categories_v2/shops/food_grocery_', 'suffix': '.png'}}], 'chains': [], 'closed_bucket': 'LikelyOpen', 'distance': 77, 'geocodes': {'drop_off': {'latitude': 43.686221, 'longitude': -79.37519}, 'main': {'latitude': 43.686494, 'longitude': -79.375248}, 'roof': {'latitude': 43.686494, 'longitude': -79.375248}}, 'link': '/v3/places/4adcb343f964a520e32e21e3', 'location': {'address': '446 Summerhill Ave', 'country': 'CA', 'cross_street': 'btwn. MacLennan Ave. and Glen Rd.', 'formatted_address': '446 Summerhill Ave (btwn. MacLennan Ave. and Glen Rd.), Toronto ON M4W 2E4', 'locality': 'Toronto', 'postcode': 'M4W 2E4', 'region': 'ON'}, 'name': 'Summerhill Market', 'related_places': {'children': [{'fsq_id': '56afe29f498e5e1f42f22b18', 'categories': [{'id': 17057, 'name': 'Food and Beverage Retail', 'short_name': 'Food & Beverage', 'plural_name': 'Food and Beverage Retail', 'icon': {'prefix': 'https://ss3.4sqi.net/img/categories_v2/shops/foodanddrink_', 'suffix': '.png'}}], 'name': 'Melia Point of Sales'}]}, 'timezone': 'America/Toronto'}, {'fsq_id': '50085572e4b0a5cfd67b0019', 'categories': [{'id': 17035, 'name': 'Drugstore', 'short_name': 'Drugstore', 'plural_name': 'Drugstores', 'icon': {'prefix': 'https://ss3.4sqi.net/img/categories_v2/shops/pharmacy_', 'suffix': '.png'}}], 'chains': [], 'closed_bucket': 'LikelyOpen', 'distance': 18, 'geocodes': {'main': {'latitude': 43.686074, 'longitude': -79.376397}, 'roof': {'latitude': 43.686074, 'longitude': -79.376397}}, 'link': '/v3/places/50085572e4b0a5cfd67b0019', 'location': {'address': '412 Summerhill Ave', 'country': 'CA', 'cross_street': '', 'formatted_address': '412 Summerhill Ave, Toronto ON M4W 2E4', 'locality': 'Toronto', 'postcode': 'M4W 2E4', 'region': 'ON'}, 'name': \"Marshall's Drug Store\", 'related_places': {}, 'timezone': 'America/Toronto'}, {'fsq_id': '5f6f6dc999b0676341c2edd0', 'categories': [{'id': 13039, 'name': 'Deli', 'short_name': 'Deli', 'plural_name': 'Delis', 'icon': {'prefix': 'https://ss3.4sqi.net/img/categories_v2/food/deli_', 'suffix': '.png'}}], 'chains': [], 'closed_bucket': 'LikelyOpen', 'distance': 27, 'geocodes': {'drop_off': {'latitude': 43.685932, 'longitude': -79.376555}, 'main': {'latitude': 43.68606, 'longitude': -79.376582}, 'roof': {'latitude': 43.68606, 'longitude': -79.376582}}, 'link': '/v3/places/5f6f6dc999b0676341c2edd0', 'location': {'address': '408 Summerhill Ave', 'country': 'CA', 'cross_street': '', 'formatted_address': '408 Summerhill Ave, Toronto ON M4W 2E4', 'locality': 'Toronto', 'postcode': 'M4W 2E4', 'region': 'ON'}, 'name': \"Rosedale's Finest\", 'related_places': {}, 'timezone': 'America/Toronto'}, {'fsq_id': '0cd772c443ca4b4a2a726647', 'categories': [{'id': 11024, 'name': 'Chemicals and Gasses Manufacturer', 'short_name': 'Chemicals and Gasses Manufacturer', 'plural_name': 'Chemicals and Gasses Manufacturers', 'icon': {'prefix': 'https://ss3.4sqi.net/img/categories_v2/building/default_', 'suffix': '.png'}}], 'chains': [], 'closed_bucket': 'LikelyOpen', 'distance': 34, 'geocodes': {'main': {'latitude': 43.685623, 'longitude': -79.376419}, 'roof': {'latitude': 43.685623, 'longitude': -79.376419}}, 'link': '/v3/places/0cd772c443ca4b4a2a726647', 'location': {'address': '26 Saint Andrews Gdns', 'country': 'CA', 'formatted_address': '26 Saint Andrews Gdns, Toronto ON M4W 2E1', 'locality': 'Toronto', 'postcode': 'M4W 2E1', 'region': 'ON'}, 'name': 'Cravac Industries Inc', 'related_places': {}, 'timezone': 'America/Toronto'}, {'fsq_id': '5f710453c2dbe370d739275e', 'categories': [{'id': 13002, 'name': 'Bakery', 'short_name': 'Bakery', 'plural_name': 'Bakeries', 'icon': {'prefix': 'https://ss3.4sqi.net/img/categories_v2/food/bakery_', 'suffix': '.png'}}, {'id': 13034, 'name': 'Café', 'short_name': 'Café', 'plural_name': 'Cafés', 'icon': {'prefix': 'https://ss3.4sqi.net/img/categories_v2/food/cafe_', 'suffix': '.png'}}, {'id': 13065, 'name': 'Restaurant', 'short_name': 'Restaurant', 'plural_name': 'Restaurants', 'icon': {'prefix': 'https://ss3.4sqi.net/img/categories_v2/food/default_', 'suffix': '.png'}}], 'chains': [], 'closed_bucket': 'LikelyOpen', 'distance': 38, 'geocodes': {'drop_off': {'latitude': 43.686047, 'longitude': -79.37601}, 'main': {'latitude': 43.686211, 'longitude': -79.376045}, 'roof': {'latitude': 43.686211, 'longitude': -79.376045}}, 'link': '/v3/places/5f710453c2dbe370d739275e', 'location': {'address': '420 Summerhill Ave', 'country': 'CA', 'cross_street': '', 'formatted_address': '420 Summerhill Ave, Toronto ON M4W 2E4', 'locality': 'Toronto', 'postcode': 'M4W 2E4', 'region': 'ON'}, 'name': 'Dolce Bakery', 'related_places': {}, 'timezone': 'America/Toronto'}, {'fsq_id': '4ae48f90f964a520ad9b21e3', 'categories': [{'id': 16032, 'name': 'Park', 'short_name': 'Park', 'plural_name': 'Parks', 'icon': {'prefix': 'https://ss3.4sqi.net/img/categories_v2/parks_outdoors/park_', 'suffix': '.png'}}], 'chains': [], 'closed_bucket': 'LikelyOpen', 'distance': 470, 'geocodes': {'main': {'latitude': 43.687377, 'longitude': -79.370803}, 'roof': {'latitude': 43.687377, 'longitude': -79.370803}}, 'link': '/v3/places/4ae48f90f964a520ad9b21e3', 'location': {'address': '250 Douglas Dr', 'country': 'CA', 'cross_street': 'Glenn Rd.(Summerhill Av.)', 'formatted_address': '250 Douglas Dr (Glenn Rd.(Summerhill Av.)), Toronto ON M4W 2C1', 'locality': 'Toronto', 'postcode': 'M4W 2C1', 'region': 'ON'}, 'name': 'Chorley Park', 'related_places': {}, 'timezone': 'America/Toronto'}, {'fsq_id': '5bfe1021c36588003944aa66', 'categories': [{'id': 15006, 'name': 'Chiropractor', 'short_name': 'Chiropractors', 'plural_name': 'Chiropractors', 'icon': {'prefix': 'https://ss3.4sqi.net/img/categories_v2/building/medical_doctorsoffice_', 'suffix': '.png'}}], 'chains': [], 'closed_bucket': 'LikelyOpen', 'distance': 385, 'geocodes': {'main': {'latitude': 43.684048, 'longitude': -79.380332}, 'roof': {'latitude': 43.684048, 'longitude': -79.380332}}, 'link': '/v3/places/5bfe1021c36588003944aa66', 'location': {'address': '37 the Links Rd', 'country': 'CA', 'cross_street': '', 'formatted_address': '37 the Links Rd, North York ON M2P 1T7', 'locality': 'North York', 'postcode': 'M2P 1T7', 'region': 'ON'}, 'name': 'Dr. Kevin Bloom Chiropractic Professional Corp', 'related_places': {}, 'timezone': 'America/Toronto'}, {'fsq_id': '4c9a50f63bc3199ca87cb162', 'categories': [{'id': 17065, 'name': 'Farmers Market', 'short_name': 'Farmers Market', 'plural_name': 'Farmers Markets', 'icon': {'prefix': 'https://ss3.4sqi.net/img/categories_v2/shops/food_farmersmarket_', 'suffix': '.png'}}], 'chains': [], 'closed_bucket': 'LikelyOpen', 'distance': 875, 'geocodes': {'main': {'latitude': 43.684635, 'longitude': -79.366017}, 'roof': {'latitude': 43.684635, 'longitude': -79.366017}}, 'link': '/v3/places/4c9a50f63bc3199ca87cb162', 'location': {'address': '550 Bayview Ave', 'country': 'CA', 'cross_street': 'Pottery Road', 'formatted_address': '550 Bayview Ave (Pottery Road), Toronto ON M4W 3X8', 'locality': 'Toronto', 'postcode': 'M4W 3X8', 'region': 'ON'}, 'name': 'Evergreen Brick Works Farmers Market', 'related_places': {'parent': {'fsq_id': '4ad9d993f964a520431b21e3', 'categories': [{'id': 12083, 'name': 'Charity', 'short_name': 'Charity', 'plural_name': 'Charities', 'icon': {'prefix': 'https://ss3.4sqi.net/img/categories_v2/building/default_', 'suffix': '.png'}}], 'name': 'Evergreen Brick Works'}}, 'timezone': 'America/Toronto'}, {'fsq_id': '4dfe2ca5185009bba4df0608', 'categories': [{'id': 16032, 'name': 'Park', 'short_name': 'Park', 'plural_name': 'Parks', 'icon': {'prefix': 'https://ss3.4sqi.net/img/categories_v2/parks_outdoors/park_', 'suffix': '.png'}}], 'chains': [], 'closed_bucket': 'LikelyOpen', 'distance': 905, 'geocodes': {'main': {'latitude': 43.684526, 'longitude': -79.365204}, 'roof': {'latitude': 43.684526, 'longitude': -79.365204}}, 'link': '/v3/places/4dfe2ca5185009bba4df0608', 'location': {'address': '550 Bayview Ave', 'country': 'CA', 'formatted_address': '550 Bayview Ave, Toronto ON M4W 3X8', 'locality': 'Toronto', 'postcode': 'M4W 3X8', 'region': 'ON'}, 'name': 'The Don Valley Brick Works Park', 'related_places': {}, 'timezone': 'America/Toronto'}, {'fsq_id': '4dfe2d6d185009bba4df0672', 'categories': [{'id': 16032, 'name': 'Park', 'short_name': 'Park', 'plural_name': 'Parks', 'icon': {'prefix': 'https://ss3.4sqi.net/img/categories_v2/parks_outdoors/park_', 'suffix': '.png'}}, {'id': 18000, 'name': 'Sports and Recreation', 'short_name': 'Sports and Recreation', 'plural_name': 'Sports and Recreation', 'icon': {'prefix': 'https://ss3.4sqi.net/img/categories_v2/shops/sports_outdoors_', 'suffix': '.png'}}], 'chains': [], 'closed_bucket': 'VeryLikelyOpen', 'distance': 906, 'geocodes': {'main': {'latitude': 43.693691, 'longitude': -79.379762}, 'roof': {'latitude': 43.693691, 'longitude': -79.379762}}, 'link': '/v3/places/4dfe2d6d185009bba4df0672', 'location': {'address': '205 Moore Ave', 'country': 'CA', 'formatted_address': '205 Moore Ave, Toronto ON M4T 2K7', 'locality': 'Toronto', 'postcode': 'M4T 2K7', 'region': 'ON'}, 'name': 'Moore Park Ravine', 'related_places': {'children': []}, 'timezone': 'America/Toronto'}], 'context': {'geo_bounds': {'circle': {'center': {'latitude': 43.685924, 'longitude': -79.376304}, 'radius': 1000}}}}\n",
      "Name of Station: Queen St E / Joseph Duggan Rd Latitude : 43.6677628 Longitude: -79.30811709999999\n",
      "=====================================\n",
      "{'results': [{'fsq_id': '4b510060f964a520e93c27e3', 'categories': [{'id': 13035, 'name': 'Coffee Shop', 'short_name': 'Coffee Shop', 'plural_name': 'Coffee Shops', 'icon': {'prefix': 'https://ss3.4sqi.net/img/categories_v2/food/coffeeshop_', 'suffix': '.png'}}], 'chains': [{'id': 'ab4c54c0-d68a-012e-5619-003048cad9da', 'name': 'Starbucks'}], 'closed_bucket': 'VeryLikelyOpen', 'distance': 89, 'geocodes': {'main': {'latitude': 43.668619, 'longitude': -79.307823}, 'roof': {'latitude': 43.668619, 'longitude': -79.307823}}, 'link': '/v3/places/4b510060f964a520e93c27e3', 'location': {'address': '1842 Queen St E', 'country': 'CA', 'cross_street': 'Brookmount Rd.', 'formatted_address': '1842 Queen St E (Brookmount Rd.), Toronto ON M4L 6T3', 'locality': 'Toronto', 'postcode': 'M4L 6T3', 'region': 'ON'}, 'name': 'Starbucks', 'related_places': {}, 'timezone': 'America/Toronto'}, {'fsq_id': '4b58eeb6f964a520e37328e3', 'categories': [{'id': 13309, 'name': 'Middle Eastern Restaurant', 'short_name': 'Middle Eastern', 'plural_name': 'Middle Eastern Restaurants', 'icon': {'prefix': 'https://ss3.4sqi.net/img/categories_v2/food/middleeastern_', 'suffix': '.png'}}], 'chains': [], 'closed_bucket': 'LikelyOpen', 'distance': 248, 'geocodes': {'drop_off': {'latitude': 43.668861, 'longitude': -79.305348}, 'main': {'latitude': 43.668688, 'longitude': -79.305309}, 'roof': {'latitude': 43.668688, 'longitude': -79.305309}}, 'link': '/v3/places/4b58eeb6f964a520e37328e3', 'location': {'address': '1891 Queen St E', 'country': 'CA', 'cross_street': 'Woodbine', 'formatted_address': '1891 Queen St E (Woodbine), Toronto ON M4L 1H3', 'locality': 'Toronto', 'postcode': 'M4L 1H3', 'region': 'ON'}, 'name': 'Delina Restaurant', 'related_places': {}, 'timezone': 'America/Toronto'}, {'fsq_id': '4e5ec839d1640a5975cf61c6', 'categories': [{'id': 13302, 'name': 'Mediterranean Restaurant', 'short_name': 'Mediterranean', 'plural_name': 'Mediterranean Restaurants', 'icon': {'prefix': 'https://ss3.4sqi.net/img/categories_v2/food/mediterranean_', 'suffix': '.png'}}], 'chains': [], 'closed_bucket': 'Unsure', 'distance': 328, 'geocodes': {'main': {'latitude': 43.669192, 'longitude': -79.304546}, 'roof': {'latitude': 43.669192, 'longitude': -79.304546}}, 'link': '/v3/places/4e5ec839d1640a5975cf61c6', 'location': {'address': '1921 Queen St E', 'country': 'CA', 'cross_street': '', 'formatted_address': '1921 Queen St E, Toronto ON', 'locality': 'Toronto', 'region': 'ON'}, 'name': 'Arax Shawarma', 'related_places': {}, 'timezone': 'America/Toronto'}, {'fsq_id': '61887b2d4467866f56d0f1e0', 'categories': [{'id': 10037, 'name': 'Concert Hall', 'short_name': 'Concert Hall', 'plural_name': 'Concert Halls', 'icon': {'prefix': 'https://ss3.4sqi.net/img/categories_v2/arts_entertainment/musicvenue_', 'suffix': '.png'}}], 'chains': [], 'closed_bucket': 'VeryLikelyOpen', 'distance': 428, 'geocodes': {'drop_off': {'latitude': 43.667068, 'longitude': -79.313347}, 'main': {'latitude': 43.666823, 'longitude': -79.313292}, 'roof': {'latitude': 43.666823, 'longitude': -79.313292}}, 'link': '/v3/places/61887b2d4467866f56d0f1e0', 'location': {'address': '1663 Queen St E', 'country': 'CA', 'cross_street': '', 'formatted_address': '1663 Queen St E, Toronto ON M4L 1H2', 'locality': 'Toronto', 'postcode': 'M4L 1H2', 'region': 'ON'}, 'name': 'History', 'related_places': {}, 'timezone': 'America/Toronto'}, {'fsq_id': '59172e0169e77b035cdbe7bd', 'categories': [{'id': 13046, 'name': 'Ice Cream Parlor', 'short_name': 'Ice Cream', 'plural_name': 'Ice Cream Parlors', 'icon': {'prefix': 'https://ss3.4sqi.net/img/categories_v2/food/icecream_', 'suffix': '.png'}}, {'id': 13065, 'name': 'Restaurant', 'short_name': 'Restaurant', 'plural_name': 'Restaurants', 'icon': {'prefix': 'https://ss3.4sqi.net/img/categories_v2/food/default_', 'suffix': '.png'}}], 'chains': [], 'closed_bucket': 'LikelyOpen', 'distance': 380, 'geocodes': {'main': {'latitude': 43.667418, 'longitude': -79.312824}, 'roof': {'latitude': 43.667418, 'longitude': -79.312824}}, 'link': '/v3/places/59172e0169e77b035cdbe7bd', 'location': {'address': '1698 Queen St W', 'country': 'CA', 'cross_street': '', 'formatted_address': '1698 Queen St W, Scarborough ON M6R 1B3', 'locality': 'Scarborough', 'postcode': 'M6R 1B3', 'region': 'ON'}, 'name': \"Brett's Ice Cream\", 'related_places': {}, 'timezone': 'America/Toronto'}, {'fsq_id': '4ada281ef964a520441f21e3', 'categories': [{'id': 16032, 'name': 'Park', 'short_name': 'Park', 'plural_name': 'Parks', 'icon': {'prefix': 'https://ss3.4sqi.net/img/categories_v2/parks_outdoors/park_', 'suffix': '.png'}}], 'chains': [], 'closed_bucket': 'LikelyOpen', 'distance': 535, 'geocodes': {'main': {'latitude': 43.661716, 'longitude': -79.307811}, 'roof': {'latitude': 43.661716, 'longitude': -79.307811}}, 'link': '/v3/places/4ada281ef964a520441f21e3', 'location': {'address': '1675 Lake Shore Blvd E', 'country': 'CA', 'cross_street': 'at Woodbine Ave', 'formatted_address': '1675 Lake Shore Blvd E (at Woodbine Ave), Toronto ON M4L 3W6', 'locality': 'Toronto', 'postcode': 'M4L 3W6', 'region': 'ON'}, 'name': 'Woodbine Beach Park', 'related_places': {'children': []}, 'timezone': 'America/Toronto'}, {'fsq_id': '4bfb074abbb7c928779a0743', 'categories': [{'id': 16003, 'name': 'Beach', 'short_name': 'Beach', 'plural_name': 'Beaches', 'icon': {'prefix': 'https://ss3.4sqi.net/img/categories_v2/parks_outdoors/beach_', 'suffix': '.png'}}], 'chains': [], 'closed_bucket': 'LikelyOpen', 'distance': 567, 'geocodes': {'main': {'latitude': 43.662825, 'longitude': -79.308781}, 'roof': {'latitude': 43.662825, 'longitude': -79.308781}}, 'link': '/v3/places/4bfb074abbb7c928779a0743', 'location': {'address': '1681 Lake Shore Blvd E', 'country': 'CA', 'formatted_address': '1681 Lake Shore Blvd E, Toronto ON M4L 3W6', 'locality': 'Toronto', 'postcode': 'M4L 3W6', 'region': 'ON'}, 'name': 'Ashbridges Bay Beach Volleyball', 'related_places': {}, 'timezone': 'America/Toronto'}, {'fsq_id': '53ffb4ff498e0a4a7c6c65c7', 'categories': [{'id': 13034, 'name': 'Café', 'short_name': 'Café', 'plural_name': 'Cafés', 'icon': {'prefix': 'https://ss3.4sqi.net/img/categories_v2/food/cafe_', 'suffix': '.png'}}, {'id': 13035, 'name': 'Coffee Shop', 'short_name': 'Coffee Shop', 'plural_name': 'Coffee Shops', 'icon': {'prefix': 'https://ss3.4sqi.net/img/categories_v2/food/coffeeshop_', 'suffix': '.png'}}, {'id': 13065, 'name': 'Restaurant', 'short_name': 'Restaurant', 'plural_name': 'Restaurants', 'icon': {'prefix': 'https://ss3.4sqi.net/img/categories_v2/food/default_', 'suffix': '.png'}}], 'chains': [], 'closed_bucket': 'VeryLikelyOpen', 'distance': 557, 'geocodes': {'main': {'latitude': 43.669764515358565, 'longitude': -79.3017568484894}}, 'link': '/v3/places/53ffb4ff498e0a4a7c6c65c7', 'location': {'address': '1934 Queen St E', 'country': 'CA', 'cross_street': 'Kenilworth', 'formatted_address': '1934 Queen St E (Kenilworth), Toronto ON M4L 1H8', 'locality': 'Toronto', 'postcode': 'M4L 1H8', 'region': 'ON'}, 'name': \"Bud's Coffee Bar\", 'related_places': {}, 'timezone': 'America/Toronto'}, {'fsq_id': '4eab2ad72c5b5d71e71cc63c', 'categories': [{'id': 13199, 'name': 'Indian Restaurant', 'short_name': 'Indian', 'plural_name': 'Indian Restaurants', 'icon': {'prefix': 'https://ss3.4sqi.net/img/categories_v2/food/indian_', 'suffix': '.png'}}], 'chains': [], 'closed_bucket': 'LikelyOpen', 'distance': 549, 'geocodes': {'main': {'latitude': 43.669776, 'longitude': -79.301879}, 'roof': {'latitude': 43.669776, 'longitude': -79.301879}}, 'link': '/v3/places/4eab2ad72c5b5d71e71cc63c', 'location': {'address': '1966A Queen St E', 'country': 'CA', 'cross_street': 'at Kenilworth Ave', 'formatted_address': '1966A Queen St E (at Kenilworth Ave), Toronto ON M4L 1H8', 'locality': 'Toronto', 'postcode': 'M4L 1H8', 'region': 'ON'}, 'name': 'Cinamon Indian Bistro', 'related_places': {}, 'timezone': 'America/Toronto'}, {'fsq_id': '4baa029cf964a52085433ae3', 'categories': [{'id': 16032, 'name': 'Park', 'short_name': 'Park', 'plural_name': 'Parks', 'icon': {'prefix': 'https://ss3.4sqi.net/img/categories_v2/parks_outdoors/park_', 'suffix': '.png'}}, {'id': 18000, 'name': 'Sports and Recreation', 'short_name': 'Sports and Recreation', 'plural_name': 'Sports and Recreation', 'icon': {'prefix': 'https://ss3.4sqi.net/img/categories_v2/shops/sports_outdoors_', 'suffix': '.png'}}], 'chains': [], 'closed_bucket': 'LikelyOpen', 'distance': 648, 'geocodes': {'main': {'latitude': 43.662892, 'longitude': -79.312532}}, 'link': '/v3/places/4baa029cf964a52085433ae3', 'location': {'address': 'Queen St', 'country': 'CA', 'cross_street': 'at Kingston Rd', 'formatted_address': 'Queen St (at Kingston Rd), Toronto ON M4L 1G7', 'locality': 'Toronto', 'postcode': 'M4L 1G7', 'region': 'ON'}, 'name': 'Woodbine Park', 'related_places': {'children': []}, 'timezone': 'America/Toronto'}], 'context': {'geo_bounds': {'circle': {'center': {'latitude': 43.6677628, 'longitude': -79.30811709999999}, 'radius': 1000}}}}\n",
      "Name of Station: Victoria Park Ave / Danforth Ave Latitude : 43.691468 Longitude: -79.288619\n",
      "=====================================\n",
      "{'results': [{'fsq_id': '4af9e037f964a520f11422e3', 'categories': [{'id': 13031, 'name': 'Burger Joint', 'short_name': 'Burgers', 'plural_name': 'Burger Joints', 'icon': {'prefix': 'https://ss3.4sqi.net/img/categories_v2/food/burger_', 'suffix': '.png'}}, {'id': 13145, 'name': 'Fast Food Restaurant', 'short_name': 'Fast Food', 'plural_name': 'Fast Food Restaurants', 'icon': {'prefix': 'https://ss3.4sqi.net/img/categories_v2/food/fastfood_', 'suffix': '.png'}}], 'chains': [{'id': 'ab4a9b10-d68a-012e-5619-003048cad9da', 'name': 'Burger King'}], 'closed_bucket': 'VeryLikelyOpen', 'distance': 69, 'geocodes': {'main': {'latitude': 43.690773, 'longitude': -79.288576}, 'roof': {'latitude': 43.690773, 'longitude': -79.288576}}, 'link': '/v3/places/4af9e037f964a520f11422e3', 'location': {'address': '3003 Danforth Ave', 'country': 'CA', 'cross_street': 'Victoria Park Ave', 'formatted_address': '3003 Danforth Ave (Victoria Park Ave), Toronto ON M4C 1M9', 'locality': 'Toronto', 'postcode': 'M4C 1M9', 'region': 'ON'}, 'name': 'Burger King', 'related_places': {'parent': {'fsq_id': '4fab2a49e4b06c670e3ecdf9', 'categories': [{'id': 17000, 'name': 'Retail', 'short_name': 'Retail', 'plural_name': 'Retail', 'icon': {'prefix': 'https://ss3.4sqi.net/img/categories_v2/shops/default_', 'suffix': '.png'}}], 'name': 'Specsavers Shoppers World Danforth'}}, 'timezone': 'America/Toronto'}, {'fsq_id': '4b5badf7f964a520990f29e3', 'categories': [{'id': 17069, 'name': 'Grocery Store', 'short_name': 'Grocery Store', 'plural_name': 'Grocery Stores', 'icon': {'prefix': 'https://ss3.4sqi.net/img/categories_v2/shops/food_grocery_', 'suffix': '.png'}}], 'chains': [{'id': '66d45dec-4a84-41b0-8613-852e6a5cae73', 'name': 'Metro'}], 'closed_bucket': 'VeryLikelyOpen', 'distance': 178, 'geocodes': {'main': {'latitude': 43.689793, 'longitude': -79.288937}, 'roof': {'latitude': 43.689793, 'longitude': -79.288937}}, 'link': '/v3/places/4b5badf7f964a520990f29e3', 'location': {'address': '3003 Danforth Ave', 'country': 'CA', 'cross_street': 'at Victoria Park Ave', 'formatted_address': '3003 Danforth Ave (at Victoria Park Ave), Toronto ON M4C 1M9', 'locality': 'Toronto', 'postcode': 'M4C 1M9', 'region': 'ON'}, 'name': 'Metro', 'related_places': {'parent': {'fsq_id': '4fab2a49e4b06c670e3ecdf9', 'categories': [{'id': 17000, 'name': 'Retail', 'short_name': 'Retail', 'plural_name': 'Retail', 'icon': {'prefix': 'https://ss3.4sqi.net/img/categories_v2/shops/default_', 'suffix': '.png'}}], 'name': 'Specsavers Shoppers World Danforth'}, 'children': [{'fsq_id': '4f32fcb9e4b0547a0d656ca7', 'categories': [{'id': 13032, 'name': 'Cafe, Coffee, and Tea House', 'short_name': 'Cafe, Coffee, and Tea House', 'plural_name': 'Cafes, Coffee, and Tea Houses', 'icon': {'prefix': 'https://ss3.4sqi.net/img/categories_v2/food/coffeeshop_', 'suffix': '.png'}}, {'id': 13043, 'name': 'Donut Shop', 'short_name': 'Donuts', 'plural_name': 'Donut Shops', 'icon': {'prefix': 'https://ss3.4sqi.net/img/categories_v2/food/donuts_', 'suffix': '.png'}}, {'id': 13065, 'name': 'Restaurant', 'short_name': 'Restaurant', 'plural_name': 'Restaurants', 'icon': {'prefix': 'https://ss3.4sqi.net/img/categories_v2/food/default_', 'suffix': '.png'}}], 'name': 'Tim Hortons'}]}, 'timezone': 'America/Toronto'}, {'fsq_id': '4c41d9787beab7138db39555', 'categories': [{'id': 17034, 'name': 'Discount Store', 'short_name': 'Discount Store', 'plural_name': 'Discount Stores', 'icon': {'prefix': 'https://ss3.4sqi.net/img/categories_v2/shops/discountstore_', 'suffix': '.png'}}], 'chains': [{'id': 'd5759e30-d890-0132-61d3-7a163eb2a6fc', 'name': 'Dollarama'}], 'closed_bucket': 'LikelyOpen', 'distance': 257, 'geocodes': {'main': {'latitude': 43.68919, 'longitude': -79.291088}, 'roof': {'latitude': 43.68919, 'longitude': -79.291088}}, 'link': '/v3/places/4c41d9787beab7138db39555', 'location': {'address': '3003 Danforth Ave', 'address_extended': 'Shoppers World Danforth', 'country': 'CA', 'cross_street': '', 'formatted_address': '3003 Danforth Ave, Toronto ON M4C 1M9', 'locality': 'Toronto', 'postcode': 'M4C 1M9', 'region': 'ON'}, 'name': 'Dollarama', 'related_places': {'parent': {'fsq_id': '4fab2a49e4b06c670e3ecdf9', 'categories': [{'id': 17000, 'name': 'Retail', 'short_name': 'Retail', 'plural_name': 'Retail', 'icon': {'prefix': 'https://ss3.4sqi.net/img/categories_v2/shops/default_', 'suffix': '.png'}}], 'name': 'Specsavers Shoppers World Danforth'}}, 'timezone': 'America/Toronto'}, {'fsq_id': '4f32fcb9e4b0547a0d656ca7', 'categories': [{'id': 13032, 'name': 'Cafe, Coffee, and Tea House', 'short_name': 'Cafe, Coffee, and Tea House', 'plural_name': 'Cafes, Coffee, and Tea Houses', 'icon': {'prefix': 'https://ss3.4sqi.net/img/categories_v2/food/coffeeshop_', 'suffix': '.png'}}, {'id': 13043, 'name': 'Donut Shop', 'short_name': 'Donuts', 'plural_name': 'Donut Shops', 'icon': {'prefix': 'https://ss3.4sqi.net/img/categories_v2/food/donuts_', 'suffix': '.png'}}, {'id': 13065, 'name': 'Restaurant', 'short_name': 'Restaurant', 'plural_name': 'Restaurants', 'icon': {'prefix': 'https://ss3.4sqi.net/img/categories_v2/food/default_', 'suffix': '.png'}}], 'chains': [{'id': 'd5719cc0-d890-0132-61d3-7a163eb2a6fc', 'name': 'Tim Hortons'}], 'closed_bucket': 'VeryLikelyOpen', 'distance': 177, 'geocodes': {'main': {'latitude': 43.689806, 'longitude': -79.288752}, 'roof': {'latitude': 43.689806, 'longitude': -79.288752}}, 'link': '/v3/places/4f32fcb9e4b0547a0d656ca7', 'location': {'address': '3003 Danforth Ave', 'country': 'CA', 'cross_street': 'Victoria Park Avenue', 'formatted_address': '3003 Danforth Ave (Victoria Park Avenue), East York ON M4C 1M9', 'locality': 'East York', 'postcode': 'M4C 1M9', 'region': 'ON'}, 'name': 'Tim Hortons', 'related_places': {'parent': {'fsq_id': '4b5badf7f964a520990f29e3', 'categories': [{'id': 17069, 'name': 'Grocery Store', 'short_name': 'Grocery Store', 'plural_name': 'Grocery Stores', 'icon': {'prefix': 'https://ss3.4sqi.net/img/categories_v2/shops/food_grocery_', 'suffix': '.png'}}], 'name': 'Metro'}}, 'timezone': 'America/Toronto'}, {'fsq_id': '4b7374f5f964a52078af2de3', 'categories': [{'id': 13064, 'name': 'Pizzeria', 'short_name': 'Pizza', 'plural_name': 'Pizzerias', 'icon': {'prefix': 'https://ss3.4sqi.net/img/categories_v2/food/pizza_', 'suffix': '.png'}}, {'id': 13199, 'name': 'Indian Restaurant', 'short_name': 'Indian', 'plural_name': 'Indian Restaurants', 'icon': {'prefix': 'https://ss3.4sqi.net/img/categories_v2/food/indian_', 'suffix': '.png'}}], 'chains': [], 'closed_bucket': 'LikelyOpen', 'distance': 276, 'geocodes': {'drop_off': {'latitude': 43.690426, 'longitude': -79.291789}, 'main': {'latitude': 43.690541, 'longitude': -79.291815}, 'roof': {'latitude': 43.690541, 'longitude': -79.291815}}, 'link': '/v3/places/4b7374f5f964a52078af2de3', 'location': {'address': '2980 Danforth Ave', 'country': 'CA', 'cross_street': 'Donlands Ave', 'formatted_address': '2980 Danforth Ave (Donlands Ave), Toronto ON M4C 1M6', 'locality': 'Toronto', 'postcode': 'M4C 1M6', 'region': 'ON'}, 'name': 'Makkah Restaurant', 'related_places': {}, 'timezone': 'America/Toronto'}, {'fsq_id': '4b9af0f5f964a52055e535e3', 'categories': [{'id': 17058, 'name': 'Beer Store', 'short_name': 'Beer Store', 'plural_name': 'Beer Stores', 'icon': {'prefix': 'https://ss3.4sqi.net/img/categories_v2/nightlife/beergarden_', 'suffix': '.png'}}], 'chains': [{'id': 'dca28a14-eb9f-44a7-a077-5a687d499af6', 'name': 'The Beer Store'}], 'closed_bucket': 'LikelyOpen', 'distance': 170, 'geocodes': {'main': {'latitude': 43.692174, 'longitude': -79.28627}, 'roof': {'latitude': 43.692174, 'longitude': -79.28627}}, 'link': '/v3/places/4b9af0f5f964a52055e535e3', 'location': {'address': '3130 Danforth Ave', 'country': 'CA', 'cross_street': 'at Victoria Park Ave', 'formatted_address': '3130 Danforth Ave (at Victoria Park Ave), Scarborough ON M1L 1B2', 'locality': 'Scarborough', 'postcode': 'M1L 1B2', 'region': 'ON'}, 'name': 'Beer Store', 'related_places': {}, 'timezone': 'America/Toronto'}, {'fsq_id': '4b3d27cef964a5201d8f25e3', 'categories': [{'id': 17057, 'name': 'Food and Beverage Retail', 'short_name': 'Food & Beverage', 'plural_name': 'Food and Beverage Retail', 'icon': {'prefix': 'https://ss3.4sqi.net/img/categories_v2/shops/foodanddrink_', 'suffix': '.png'}}], 'chains': [], 'closed_bucket': 'LikelyOpen', 'distance': 236, 'geocodes': {'main': {'latitude': 43.69109, 'longitude': -79.285725}, 'roof': {'latitude': 43.69109, 'longitude': -79.285725}}, 'link': '/v3/places/4b3d27cef964a5201d8f25e3', 'location': {'address': '3111 Danforth Ave', 'country': 'CA', 'cross_street': 'at Victoria Park Ave', 'formatted_address': '3111 Danforth Ave (at Victoria Park Ave), Toronto ON M1L 1A9', 'locality': 'Toronto', 'postcode': 'M1L 1A9', 'region': 'ON'}, 'name': 'Lcbo', 'related_places': {}, 'timezone': 'America/Toronto'}, {'fsq_id': '4fab2a49e4b06c670e3ecdf9', 'categories': [{'id': 17000, 'name': 'Retail', 'short_name': 'Retail', 'plural_name': 'Retail', 'icon': {'prefix': 'https://ss3.4sqi.net/img/categories_v2/shops/default_', 'suffix': '.png'}}], 'chains': [], 'closed_bucket': 'LikelyOpen', 'distance': 191, 'geocodes': {'main': {'latitude': 43.689747, 'longitude': -79.288789}, 'roof': {'latitude': 43.689747, 'longitude': -79.288789}}, 'link': '/v3/places/4fab2a49e4b06c670e3ecdf9', 'location': {'address': '3003 Danforth Ave', 'address_extended': 'Unit 6A', 'country': 'CA', 'cross_street': 'at Victoria Park', 'formatted_address': '3003 Danforth Ave (at Victoria Park), Toronto ON M4C 1M9', 'locality': 'Toronto', 'postcode': 'M4C 1M9', 'region': 'ON'}, 'name': 'Specsavers Shoppers World Danforth', 'related_places': {'children': [{'fsq_id': '4af9e037f964a520f11422e3', 'categories': [{'id': 13031, 'name': 'Burger Joint', 'short_name': 'Burgers', 'plural_name': 'Burger Joints', 'icon': {'prefix': 'https://ss3.4sqi.net/img/categories_v2/food/burger_', 'suffix': '.png'}}, {'id': 13145, 'name': 'Fast Food Restaurant', 'short_name': 'Fast Food', 'plural_name': 'Fast Food Restaurants', 'icon': {'prefix': 'https://ss3.4sqi.net/img/categories_v2/food/fastfood_', 'suffix': '.png'}}], 'name': 'Burger King'}, {'fsq_id': '52ec60c1498e0c441582be5f', 'categories': [{'id': 18021, 'name': 'Gym and Studio', 'short_name': 'Gym and Studio', 'plural_name': 'Gym and Studios', 'icon': {'prefix': 'https://ss3.4sqi.net/img/categories_v2/building/gym_', 'suffix': '.png'}}], 'name': 'LA Fitness'}, {'fsq_id': '4f74e9d0e4b08bf0dc19d7fb', 'categories': [{'id': 17043, 'name': 'Clothing Store', 'short_name': 'Apparel', 'plural_name': 'Clothing Stores', 'icon': {'prefix': 'https://ss3.4sqi.net/img/categories_v2/shops/apparel_', 'suffix': '.png'}}], 'name': 'Reitmans'}, {'fsq_id': '61b118aceed85d141017fe31', 'categories': [{'id': 13054, 'name': 'Food Truck', 'short_name': 'Food Truck', 'plural_name': 'Food Trucks', 'icon': {'prefix': 'https://ss3.4sqi.net/img/categories_v2/food/streetfood_', 'suffix': '.png'}}], 'name': 'Mr. Beast Burger'}, {'fsq_id': '4b9bd19ef964a520012936e3', 'categories': [{'id': 17069, 'name': 'Grocery Store', 'short_name': 'Grocery Store', 'plural_name': 'Grocery Stores', 'icon': {'prefix': 'https://ss3.4sqi.net/img/categories_v2/shops/food_grocery_', 'suffix': '.png'}}], 'name': 'Bulk Barn'}, {'fsq_id': '4b5badf7f964a520990f29e3', 'categories': [{'id': 17069, 'name': 'Grocery Store', 'short_name': 'Grocery Store', 'plural_name': 'Grocery Stores', 'icon': {'prefix': 'https://ss3.4sqi.net/img/categories_v2/shops/food_grocery_', 'suffix': '.png'}}], 'name': 'Metro'}, {'fsq_id': '4c41d9787beab7138db39555', 'categories': [{'id': 17034, 'name': 'Discount Store', 'short_name': 'Discount Store', 'plural_name': 'Discount Stores', 'icon': {'prefix': 'https://ss3.4sqi.net/img/categories_v2/shops/discountstore_', 'suffix': '.png'}}], 'name': 'Dollarama'}, {'fsq_id': '4c9141c77f3b8cfada2b9b1e', 'categories': [{'id': 17110, 'name': 'Pet Supplies Store', 'short_name': 'Pet Supplies Store', 'plural_name': 'Pet Supplies Stores', 'icon': {'prefix': 'https://ss3.4sqi.net/img/categories_v2/shops/pet_store_', 'suffix': '.png'}}], 'name': 'Pet Valu'}]}, 'timezone': 'America/Toronto'}, {'fsq_id': '5be56fc046e1b6002c15ca16', 'categories': [{'id': 13035, 'name': 'Coffee Shop', 'short_name': 'Coffee Shop', 'plural_name': 'Coffee Shops', 'icon': {'prefix': 'https://ss3.4sqi.net/img/categories_v2/food/coffeeshop_', 'suffix': '.png'}}], 'chains': [{'id': 'ab4c54c0-d68a-012e-5619-003048cad9da', 'name': 'Starbucks'}], 'closed_bucket': 'VeryLikelyOpen', 'distance': 319, 'geocodes': {'main': {'latitude': 43.688611, 'longitude': -79.28819}, 'roof': {'latitude': 43.688611, 'longitude': -79.28819}}, 'link': '/v3/places/5be56fc046e1b6002c15ca16', 'location': {'address': '50 Musgrave St', 'country': 'CA', 'cross_street': '', 'formatted_address': '50 Musgrave St, Toronto ON M4E 3W2', 'locality': 'Toronto', 'postcode': 'M4E 3W2', 'region': 'ON'}, 'name': 'Starbucks', 'related_places': {}, 'timezone': 'America/Toronto'}, {'fsq_id': '4b9bd19ef964a520012936e3', 'categories': [{'id': 17069, 'name': 'Grocery Store', 'short_name': 'Grocery Store', 'plural_name': 'Grocery Stores', 'icon': {'prefix': 'https://ss3.4sqi.net/img/categories_v2/shops/food_grocery_', 'suffix': '.png'}}], 'chains': [], 'closed_bucket': 'LikelyOpen', 'distance': 268, 'geocodes': {'main': {'latitude': 43.690078, 'longitude': -79.291227}, 'roof': {'latitude': 43.690078, 'longitude': -79.291227}}, 'link': '/v3/places/4b9bd19ef964a520012936e3', 'location': {'address': '3003 Danforth Ave', 'country': 'CA', 'cross_street': 'at Victoria Park Ave.', 'formatted_address': '3003 Danforth Ave (at Victoria Park Ave.), Toronto ON M4C 1M9', 'locality': 'Toronto', 'postcode': 'M4C 1M9', 'region': 'ON'}, 'name': 'Bulk Barn', 'related_places': {'parent': {'fsq_id': '4fab2a49e4b06c670e3ecdf9', 'categories': [{'id': 17000, 'name': 'Retail', 'short_name': 'Retail', 'plural_name': 'Retail', 'icon': {'prefix': 'https://ss3.4sqi.net/img/categories_v2/shops/default_', 'suffix': '.png'}}], 'name': 'Specsavers Shoppers World Danforth'}}, 'timezone': 'America/Toronto'}], 'context': {'geo_bounds': {'circle': {'center': {'latitude': 43.691468, 'longitude': -79.288619}, 'radius': 1000}}}}\n"
     ]
    }
   ],
   "source": [
    "api_key = os.environ.get(\"stats_project\")\n",
    "\n",
    "\n",
    "location = 'bixi-toronto'\n",
    "url = 'http://api.citybik.es/v2/networks/' + location\n",
    "\n",
    "\n",
    "header_dict = {\n",
    "    \"accept\": \"application/json\"\n",
    "}\n",
    "\n",
    "response = requests.get(url, headers=header_dict)\n",
    "\n",
    "header_auth = {\n",
    "    \"accept\": \"application/json\",\n",
    "    \"Authorization\": api_key\n",
    "}\n",
    "\n",
    "counter = 0\n",
    "\n",
    "for i in response.json()['network']['stations']:\n",
    "        name = i['name']\n",
    "        latitude = i['latitude']\n",
    "        longitude = i['longitude']\n",
    "        print(\"Name of Station: \" + name + \" Latitude : \" + str(latitude) + \" Longitude: \" + str(longitude))\n",
    "        print(\"=====================================\")\n",
    "        url = \"https://api.foursquare.com/v3/places/search?ll={0}%2C{1}&radius=1000\".format(latitude,longitude)\n",
    "        response = requests.get(url, headers=header_auth)\n",
    "        print(response.json())\n",
    "\n",
    "    \n",
    "        counter += 1\n",
    "        if counter == 3:\n",
    "            break"
   ]
  },
  {
   "cell_type": "markdown",
   "metadata": {},
   "source": [
    "Parse through the response to get the POI (such as restaurants, bars, etc) details you want (ratings, name, location, etc)"
   ]
  },
  {
   "cell_type": "code",
   "execution_count": 175,
   "metadata": {},
   "outputs": [
    {
     "name": "stdout",
     "output_type": "stream",
     "text": [
      "Burger Joint\n",
      "3003 Danforth Ave (Victoria Park Ave), Toronto ON M4C 1M9\n",
      "3003 Danforth Ave (at Victoria Park Ave), Toronto ON M4C 1M9\n",
      "3003 Danforth Ave, Toronto ON M4C 1M9\n",
      "Cafe, Coffee, and Tea House\n",
      "3003 Danforth Ave (Victoria Park Avenue), East York ON M4C 1M9\n",
      "Pizzeria\n",
      "2980 Danforth Ave (Donlands Ave), Toronto ON M4C 1M6\n",
      "3130 Danforth Ave (at Victoria Park Ave), Scarborough ON M1L 1B2\n",
      "3111 Danforth Ave (at Victoria Park Ave), Toronto ON M1L 1A9\n",
      "3003 Danforth Ave (at Victoria Park), Toronto ON M4C 1M9\n",
      "Coffee Shop\n",
      "50 Musgrave St, Toronto ON M4E 3W2\n",
      "3003 Danforth Ave (at Victoria Park Ave.), Toronto ON M4C 1M9\n"
     ]
    }
   ],
   "source": [
    "data = response.json()\n",
    "#print(data)\n",
    "\n",
    "for key, values in data.items():\n",
    "    if key == 'results':\n",
    "        #print(key, value)\n",
    "        for value in values:\n",
    "            #print(value)\n",
    "            for k,v in value.items():\n",
    "                if k == 'categories': \n",
    "                    #print(v[0]['id'])\n",
    "                    if 13026 <= v[0]['id'] <= 13390:\n",
    "                        print(v[0]['name']) \n",
    "                if k == 'location':\n",
    "                    print(v['formatted_address'])  \n",
    "                if k == 'rating':\n",
    "                    print(v)       \n",
    "                    \n",
    "                    "
   ]
  },
  {
   "cell_type": "markdown",
   "metadata": {},
   "source": [
    "Put your parsed results into a DataFrame"
   ]
  },
  {
   "cell_type": "code",
   "execution_count": 177,
   "metadata": {},
   "outputs": [
    {
     "data": {
      "text/html": [
       "<div>\n",
       "<style scoped>\n",
       "    .dataframe tbody tr th:only-of-type {\n",
       "        vertical-align: middle;\n",
       "    }\n",
       "\n",
       "    .dataframe tbody tr th {\n",
       "        vertical-align: top;\n",
       "    }\n",
       "\n",
       "    .dataframe thead th {\n",
       "        text-align: right;\n",
       "    }\n",
       "</style>\n",
       "<table border=\"1\" class=\"dataframe\">\n",
       "  <thead>\n",
       "    <tr style=\"text-align: right;\">\n",
       "      <th></th>\n",
       "    </tr>\n",
       "  </thead>\n",
       "  <tbody>\n",
       "    <tr>\n",
       "      <th>0</th>\n",
       "    </tr>\n",
       "    <tr>\n",
       "      <th>1</th>\n",
       "    </tr>\n",
       "  </tbody>\n",
       "</table>\n",
       "</div>"
      ],
      "text/plain": [
       "Empty DataFrame\n",
       "Columns: []\n",
       "Index: [0, 1]"
      ]
     },
     "execution_count": 177,
     "metadata": {},
     "output_type": "execute_result"
    }
   ],
   "source": [
    "df = pd.json_normalize(data.items())\n",
    "df.head()"
   ]
  },
  {
   "cell_type": "markdown",
   "metadata": {},
   "source": [
    "# Yelp"
   ]
  },
  {
   "cell_type": "markdown",
   "metadata": {},
   "source": [
    "Send a request to Yelp with a small radius (1000m) for all the bike stations in your city of choice. "
   ]
  },
  {
   "cell_type": "code",
   "execution_count": null,
   "metadata": {},
   "outputs": [],
   "source": []
  },
  {
   "cell_type": "markdown",
   "metadata": {},
   "source": [
    "Parse through the response to get the POI (such as restaurants, bars, etc) details you want (ratings, name, location, etc)"
   ]
  },
  {
   "cell_type": "code",
   "execution_count": null,
   "metadata": {},
   "outputs": [],
   "source": []
  },
  {
   "cell_type": "markdown",
   "metadata": {},
   "source": [
    "Put your parsed results into a DataFrame"
   ]
  },
  {
   "cell_type": "markdown",
   "metadata": {},
   "source": []
  },
  {
   "cell_type": "markdown",
   "metadata": {},
   "source": [
    "# Comparing Results"
   ]
  },
  {
   "cell_type": "markdown",
   "metadata": {},
   "source": [
    "Which API provided you with more complete data? Provide an explanation. "
   ]
  },
  {
   "cell_type": "markdown",
   "metadata": {},
   "source": []
  },
  {
   "cell_type": "markdown",
   "metadata": {},
   "source": [
    "Get the top 10 restaurants according to their rating"
   ]
  },
  {
   "cell_type": "code",
   "execution_count": null,
   "metadata": {},
   "outputs": [],
   "source": []
  }
 ],
 "metadata": {
  "kernelspec": {
   "display_name": "new_env",
   "language": "python",
   "name": "python3"
  },
  "language_info": {
   "codemirror_mode": {
    "name": "ipython",
    "version": 3
   },
   "file_extension": ".py",
   "mimetype": "text/x-python",
   "name": "python",
   "nbconvert_exporter": "python",
   "pygments_lexer": "ipython3",
   "version": "3.9.15"
  }
 },
 "nbformat": 4,
 "nbformat_minor": 4
}
