{
 "cells": [
  {
   "cell_type": "markdown",
   "metadata": {},
   "source": [
    "Join the data from Part 1 with the data from Part 2 to create a new dataframe."
   ]
  },
  {
   "cell_type": "code",
   "execution_count": null,
   "metadata": {},
   "outputs": [],
   "source": [
    "import pandas as pd\n",
    "import import_ipynb\n",
    "from yelp_foursquare_EDA import df,yelp_df\n",
    "pd.merge(df, yelp_df, on=['Name', 'Address'], how='inner')"
   ]
  },
  {
   "cell_type": "markdown",
   "metadata": {},
   "source": [
    "Provide a visualization that you used as part of your EDA process. Explain the initial pattern or relationship you discoved through this visualization. "
   ]
  },
  {
   "cell_type": "code",
   "execution_count": 3,
   "metadata": {},
   "outputs": [
    {
     "ename": "ModuleNotFoundError",
     "evalue": "No module named 'yelp_foursquare_EDA'",
     "output_type": "error",
     "traceback": [
      "\u001b[1;31m---------------------------------------------------------------------------\u001b[0m",
      "\u001b[1;31mModuleNotFoundError\u001b[0m                       Traceback (most recent call last)",
      "Cell \u001b[1;32mIn[3], line 7\u001b[0m\n\u001b[0;32m      4\u001b[0m \u001b[38;5;28;01mimport\u001b[39;00m \u001b[38;5;21;01mmatplotlib\u001b[39;00m\u001b[38;5;21;01m.\u001b[39;00m\u001b[38;5;21;01mpyplot\u001b[39;00m \u001b[38;5;28;01mas\u001b[39;00m \u001b[38;5;21;01mplt\u001b[39;00m\n\u001b[0;32m      5\u001b[0m \u001b[38;5;28;01mimport\u001b[39;00m \u001b[38;5;21;01mseaborn\u001b[39;00m \u001b[38;5;28;01mas\u001b[39;00m \u001b[38;5;21;01msns\u001b[39;00m\n\u001b[1;32m----> 7\u001b[0m \u001b[38;5;28;01mfrom\u001b[39;00m \u001b[38;5;21;01myelp_foursquare_EDA\u001b[39;00m \u001b[38;5;28;01mimport\u001b[39;00m yelp_analysis\n\u001b[0;32m      8\u001b[0m \u001b[38;5;66;03m#print(yelp_analysis)\u001b[39;00m\n\u001b[0;32m     10\u001b[0m df_yelp_analysis \u001b[38;5;241m=\u001b[39m pd\u001b[38;5;241m.\u001b[39mjson_normalize(yelp_analysis)\n",
      "\u001b[1;31mModuleNotFoundError\u001b[0m: No module named 'yelp_foursquare_EDA'"
     ]
    }
   ],
   "source": [
    "import pandas as pd\n",
    "import numpy as np\n",
    "\n",
    "import matplotlib.pyplot as plt\n",
    "import seaborn as sns\n",
    "\n",
    "from yelp_foursquare_EDA import yelp_analysis\n",
    "#print(yelp_analysis)\n",
    "\n",
    "df_yelp_analysis = pd.json_normalize(yelp_analysis)\n",
    "df_yelp_analysis\n",
    "\n",
    "print(df_yelp_analysis.shape) #check how many variables and observations\n",
    "\n",
    "df_yelp_analysis.dtypes #check the column names and their data types\n",
    "\n",
    "#check for duplicates for bike station\n",
    "bike_Unique = len(set(df_yelp_analysis.Bike_Station))\n",
    "bike_Total = df_yelp_analysis.shape[0]\n",
    "bike_dupe = bike_Total - bike_Unique\n",
    "print(bike_dupe)\n",
    "\n",
    "#check for outliers and relationship\n",
    "fig, ax = plt.subplots()\n",
    "ax.scatter(x = df_yelp_analysis['Bikes_in_Use'], y = df_yelp_analysis['Number_of_Restaurants'])\n",
    "plt.ylabel('Number_of_Restaurants', fontsize=13)\n",
    "plt.xlabel('Bikes_in_Use', fontsize=13)\n",
    "plt.show()\n",
    "\n",
    "#check for relationships\n",
    "sns.pairplot(df_yelp_analysis)\n"
   ]
  },
  {
   "cell_type": "markdown",
   "metadata": {},
   "source": [
    "# Database"
   ]
  },
  {
   "cell_type": "markdown",
   "metadata": {},
   "source": [
    "Put all your results in an SQLite3 database (remember, SQLite stores its databases as files in your local machine - make sure to create your database in your project's data/ directory!)"
   ]
  },
  {
   "cell_type": "code",
   "execution_count": 38,
   "metadata": {},
   "outputs": [
    {
     "name": "stdout",
     "output_type": "stream",
     "text": [
      "Connection to SQLite DB successful\n",
      "Query executed successfully\n",
      "(1, 'Summerhill Ave / Maclennan Ave', 50, 3.738, 10)\n",
      "(2, 'Queen St E / Joseph Duggan Rd', 50, 4.172000000000001, 1)\n",
      "(3, 'Victoria Park Ave / Danforth Ave', 50, 3.3139999999999996, 15)\n"
     ]
    }
   ],
   "source": [
    "import sqlite3\n",
    "from sqlite3 import Error\n",
    "\n",
    "def create_connection(path):\n",
    "    connection = None\n",
    "    try:\n",
    "        connection = sqlite3.connect(path)\n",
    "        print(\"Connection to SQLite DB successful\")\n",
    "    except Error as e:\n",
    "        print(f\"The error '{e}' occurred\")\n",
    "\n",
    "    return connection\n",
    "\n",
    "connection = create_connection(r\"C:\\Users\\muham\\Documents\\Python-Statistical-Modelling-Project\\data\\SQLite3_data_three.sqlite\")\n",
    "\n",
    "def execute_query(connection, query):\n",
    "    cursor = connection.cursor()\n",
    "    try:\n",
    "        cursor.execute(query)\n",
    "        connection.commit()\n",
    "        print(\"Query executed successfully\")\n",
    "    except Error as e:\n",
    "        print(f\"The error '{e}' occurred\")\n",
    "\n",
    "create_POI_table = \"\"\"\n",
    "CREATE TABLE IF NOT EXISTS poi_table (\n",
    "  id INTEGER PRIMARY KEY AUTOINCREMENT,\n",
    "  bikestation TEXT NOT NULL,\n",
    "  numberofrestaurants INTEGER,\n",
    "  averagerating REAL,\n",
    "  bikesinuse INTEGER\n",
    ");\n",
    "\"\"\"\n",
    "\n",
    "def execute_read_query(connection, query):\n",
    "    cursor = connection.cursor()\n",
    "    result = None\n",
    "    try:\n",
    "        cursor.execute(query)\n",
    "        result = cursor.fetchall()\n",
    "        return result\n",
    "    except Error as e:\n",
    "        print(f\"The error '{e}' occurred\")\n",
    "\n",
    "def insert_func(connection,bikestation,norestaurants,averagerating,bikesinuse):\n",
    "    cursor = connection.cursor()\n",
    "    insert_POI = \"INSERT INTO poi_table (bikestation,numberofrestaurants,averagerating,bikesinuse) VALUES(?,?,?,?)\"\n",
    "    cursor.execute(insert_POI,(bikestation,norestaurants,averagerating,bikesinuse))\n",
    "    connection.commit()\n",
    "\n",
    "execute_query(connection, create_POI_table) \n",
    "\n",
    "select_poi_table = \"SELECT * FROM poi_table\"\n",
    "\n",
    "results = execute_read_query(connection,select_poi_table)\n",
    "\n",
    "for result in results:\n",
    "     print(result)\n",
    "\n",
    "for item in yelp_analysis:\n",
    "    bikestation = item['Bike_Station']\n",
    "    norestaurants = item['Number_of_Restaurants']\n",
    "    averagerating = item['Average_Rating']\n",
    "    bikesinuse = item['Bikes_in_Use']\n",
    "\n",
    "    insert_func(connection,bikestation,norestaurants,averagerating,bikesinuse)\n",
    "\n",
    "results = execute_read_query(connection,select_poi_table)\n",
    "\n",
    "for result in results:\n",
    "     print(result)\n"
   ]
  },
  {
   "cell_type": "markdown",
   "metadata": {},
   "source": [
    "Look at the data before and after the join to validate your data."
   ]
  },
  {
   "cell_type": "code",
   "execution_count": null,
   "metadata": {},
   "outputs": [],
   "source": []
  }
 ],
 "metadata": {
  "kernelspec": {
   "display_name": "new_env",
   "language": "python",
   "name": "python3"
  },
  "language_info": {
   "codemirror_mode": {
    "name": "ipython",
    "version": 3
   },
   "file_extension": ".py",
   "mimetype": "text/x-python",
   "name": "python",
   "nbconvert_exporter": "python",
   "pygments_lexer": "ipython3",
   "version": "3.9.15"
  }
 },
 "nbformat": 4,
 "nbformat_minor": 4
}
